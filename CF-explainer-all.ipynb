{
 "cells": [
  {
   "cell_type": "markdown",
   "id": "7faf3c93",
   "metadata": {},
   "source": [
    "# Training the perturbed GCN and getting counterfactual explanations"
   ]
  },
  {
   "cell_type": "code",
   "execution_count": 1,
   "id": "530fa18f",
   "metadata": {},
   "outputs": [
    {
     "name": "stderr",
     "output_type": "stream",
     "text": [
      "/Users/janneke/opt/anaconda3/envs/CF-GNNExplainer/lib/python3.9/site-packages/tqdm/auto.py:22: TqdmWarning: IProgress not found. Please update jupyter and ipywidgets. See https://ipywidgets.readthedocs.io/en/stable/user_install.html\n",
      "  from .autonotebook import tqdm as notebook_tqdm\n"
     ]
    }
   ],
   "source": [
    "# first import the needed packages\n",
    "import pickle\n",
    "import torch\n",
    "import numpy as np\n",
    "from statistics import mean\n",
    "from gcn import *\n",
    "from gcn_perturbation_matrix import *\n",
    "from sklearn.metrics import accuracy_score\n",
    "from explainer_framework import *\n",
    "from calculate_metrics import *\n",
    "from models_original_paper.gcn import GCNSynthetic as GCN_original"
   ]
  },
  {
   "cell_type": "markdown",
   "id": "15fd74b4",
   "metadata": {},
   "source": [
    "## Read in the data we are working with:"
   ]
  },
  {
   "cell_type": "code",
   "execution_count": 2,
   "id": "32a67c40",
   "metadata": {},
   "outputs": [],
   "source": [
    "with open('data/syn1.pickle','rb') as pickle_file: \n",
    "    data_syn1 = pickle.load(pickle_file)\n",
    "\n",
    "with open('data/syn4.pickle','rb') as pickle_file:\n",
    "    data_syn4 = pickle.load(pickle_file)\n",
    "    \n",
    "with open('data/syn5.pickle','rb') as pickle_file:\n",
    "    data_syn5 = pickle.load(pickle_file)"
   ]
  },
  {
   "cell_type": "markdown",
   "id": "702f9f47",
   "metadata": {},
   "source": [
    "## Transform the data into tensors, format everything properly:"
   ]
  },
  {
   "cell_type": "code",
   "execution_count": 3,
   "id": "68d790b7",
   "metadata": {},
   "outputs": [
    {
     "name": "stderr",
     "output_type": "stream",
     "text": [
      "/Users/janneke/Documents/GitHub/CF-GNNExplainer-recreation/gcn.py:159: UserWarning: Creating a tensor from a list of numpy.ndarrays is extremely slow. Please consider converting the list to a single numpy.ndarray with numpy.array() before converting to a tensor. (Triggered internally at /Users/runner/work/_temp/anaconda/conda-bld/pytorch_1670525473998/work/torch/csrc/utils/tensor_new.cpp:233.)\n",
      "  A_hat = torch.sparse_coo_tensor((A_hat.row, A_hat.col), A_hat.data, dtype=torch.float)\n"
     ]
    }
   ],
   "source": [
    "# squeeze the labels (as it has a singleton dim and then make it a tensor)\n",
    "labels_syn1 = np.squeeze(data_syn1['labels'])\n",
    "labels_syn1 = torch.tensor(labels_syn1)\n",
    "\n",
    "labels_syn4 = np.squeeze(data_syn4['labels'])\n",
    "labels_syn4 = torch.tensor(labels_syn4)\n",
    "\n",
    "labels_syn5 = np.squeeze(data_syn5['labels'])\n",
    "labels_syn5 = torch.tensor(labels_syn5)\n",
    "\n",
    "# same for features, but define the type of data here\n",
    "features_syn1 = np.squeeze(data_syn1['feat'])\n",
    "features_syn1 = torch.tensor(features_syn1, dtype=torch.float)\n",
    "\n",
    "features_syn4 = np.squeeze(data_syn4['feat'])\n",
    "features_syn4 = torch.tensor(features_syn4, dtype=torch.float)\n",
    "\n",
    "features_syn5 = np.squeeze(data_syn5['feat'])\n",
    "features_syn5 = torch.tensor(features_syn5, dtype=torch.float)\n",
    "\n",
    "# adjacency matrix\n",
    "adjacency_matrix_syn1 = torch.tensor(np.squeeze(data_syn1['adj']), dtype=torch.float)\n",
    "adjacency_matrix_syn4 = torch.tensor(np.squeeze(data_syn4['adj']), dtype=torch.float)\n",
    "adjacency_matrix_syn5 = torch.tensor(np.squeeze(data_syn5['adj']), dtype=torch.float)\n",
    "\n",
    "test_indices_syn1 = torch.tensor(data_syn1['test_idx'])\n",
    "test_indices_syn4 = torch.tensor(data_syn4['test_idx'])\n",
    "test_indices_syn5 = torch.tensor(data_syn5['test_idx'])\n",
    "\n",
    "# Get the adjacency matrices normalized, and in sparse format (needed for the GCN message passing)\n",
    "sparse_adj_1 = get_sparse_adjacency_normalized(features_syn1.shape[0], adjacency_matrix_syn1)\n",
    "sparse_adj_4 = get_sparse_adjacency_normalized(features_syn4.shape[0], adjacency_matrix_syn4)\n",
    "sparse_adj_5 = get_sparse_adjacency_normalized(features_syn5.shape[0], adjacency_matrix_syn5)"
   ]
  },
  {
   "cell_type": "markdown",
   "id": "14f6ca7a",
   "metadata": {},
   "source": [
    "## Part 1: explanation framework with the original GCN (from the original paper)\n",
    "We do this to isolate the explanation framework from the GCN as a test -- so we can discover later on what the differences are between the output of the model, and of how the framework tries to explain this."
   ]
  },
  {
   "cell_type": "markdown",
   "id": "7dcb82e0",
   "metadata": {},
   "source": [
    "### Get the original model"
   ]
  },
  {
   "cell_type": "code",
   "execution_count": 4,
   "id": "3f7e852b",
   "metadata": {},
   "outputs": [
    {
     "data": {
      "text/plain": [
       "<All keys matched successfully>"
      ]
     },
     "execution_count": 4,
     "metadata": {},
     "output_type": "execute_result"
    }
   ],
   "source": [
    "model_syn1_dict_orig = torch.load('models_original_paper/gcn_3layer_syn1.pt')\n",
    "model_syn4_dict_orig = torch.load('models_original_paper/gcn_3layer_syn4.pt')\n",
    "model_syn5_dict_orig = torch.load('models_original_paper/gcn_3layer_syn5.pt')\n",
    "\n",
    "# load the models, using the state dictionary\n",
    "# note that GCN_original is the model that was used in the CF-GNNExplainer paper\n",
    "model_syn1_orig = GCN_original(nfeat=model_syn1_dict_orig['gc1.weight'].shape[0], nhid=model_syn1_dict_orig['gc1.weight'].shape[1], nout=model_syn1_dict_orig['gc1.weight'].shape[1], nclass=model_syn1_dict_orig['lin.bias'].shape[0], dropout=0)\n",
    "model_syn1_orig.load_state_dict(model_syn1_dict_orig)\n",
    "\n",
    "model_syn4_orig = GCN_original(nfeat=model_syn4_dict_orig['gc1.weight'].shape[0], nhid=model_syn4_dict_orig['gc1.weight'].shape[1], nout=model_syn4_dict_orig['gc1.weight'].shape[1], nclass=model_syn4_dict_orig['lin.bias'].shape[0], dropout=0)\n",
    "model_syn4_orig.load_state_dict(model_syn4_dict_orig)\n",
    "\n",
    "model_syn5_orig = GCN_original(nfeat=model_syn5_dict_orig['gc1.weight'].shape[0], nhid=model_syn5_dict_orig['gc1.weight'].shape[1], nout=model_syn5_dict_orig['gc1.weight'].shape[1], nclass=model_syn5_dict_orig['lin.bias'].shape[0], dropout=0)\n",
    "model_syn5_orig.load_state_dict(model_syn5_dict_orig)"
   ]
  },
  {
   "cell_type": "markdown",
   "id": "3a6a1523",
   "metadata": {},
   "source": [
    "### Get the original predictions"
   ]
  },
  {
   "cell_type": "code",
   "execution_count": 5,
   "id": "be4ca7f4",
   "metadata": {},
   "outputs": [
    {
     "name": "stdout",
     "output_type": "stream",
     "text": [
      "Test accuracy of Syn1 data:  0.9857142857142858\n",
      "Test accuracy of Syn4 data:  0.9085714285714286\n",
      "Test accuracy of Syn5 data:  0.8744939271255061\n"
     ]
    }
   ],
   "source": [
    "# evaluate the models --> get the predictions of all the nodes\n",
    "model_syn1_orig.eval()\n",
    "outputs_syn1_orig = model_syn1_orig(features_syn1, sparse_adj_1)\n",
    "_, predictions_1_orig = torch.max(outputs_syn1_orig.data, 1)\n",
    "print(\"Test accuracy of Syn1 data: \", accuracy_score(labels_syn1[test_indices_syn1], predictions_1_orig[test_indices_syn1]))\n",
    "\n",
    "model_syn4_orig.eval()\n",
    "outputs_syn4_orig = model_syn4_orig(features_syn4, sparse_adj_4)\n",
    "_, predictions_4_orig = torch.max(outputs_syn4_orig.data, 1)\n",
    "print(\"Test accuracy of Syn4 data: \", accuracy_score(labels_syn4[test_indices_syn4], predictions_4_orig[test_indices_syn4]))\n",
    "\n",
    "model_syn5_orig.eval()\n",
    "outputs_syn5_orig = model_syn5_orig(features_syn5, sparse_adj_5)\n",
    "_, predictions_5_orig = torch.max(outputs_syn5_orig.data, 1)\n",
    "print(\"Test accuracy of Syn5 data: \", accuracy_score(labels_syn5[test_indices_syn5], predictions_5_orig[test_indices_syn5]))"
   ]
  },
  {
   "cell_type": "markdown",
   "id": "fea2c779",
   "metadata": {},
   "source": [
    "### Put the weights in the correct dictionaries"
   ]
  },
  {
   "cell_type": "code",
   "execution_count": 6,
   "id": "92a2a28a",
   "metadata": {},
   "outputs": [],
   "source": [
    "# put the weights in dictionaries that the find-explanations-function can use later on to create a perturbed GNN\n",
    "model_weights_original_syn1 = dict()\n",
    "model_weights_original_syn1[\"layer1_W\"] = model_syn1_dict_orig['gc1.weight'].detach()\n",
    "model_weights_original_syn1[\"layer1_b\"] = model_syn1_dict_orig['gc1.bias'].detach()\n",
    "model_weights_original_syn1[\"layer2_W\"] = model_syn1_dict_orig['gc2.weight'].detach()\n",
    "model_weights_original_syn1[\"layer2_b\"] = model_syn1_dict_orig['gc2.bias'].detach()\n",
    "model_weights_original_syn1[\"layer3_W\"] = model_syn1_dict_orig['gc3.weight'].detach()\n",
    "model_weights_original_syn1[\"layer3_b\"] = model_syn1_dict_orig['gc3.bias'].detach()\n",
    "model_weights_original_syn1[\"lin_weight\"] = model_syn1_dict_orig['lin.weight'].detach()\n",
    "model_weights_original_syn1[\"lin_b\"] = model_syn1_dict_orig['lin.bias'].detach()\n",
    "\n",
    "model_weights_original_syn4 = dict()\n",
    "model_weights_original_syn4[\"layer1_W\"] = model_syn4_dict_orig['gc1.weight'].detach()\n",
    "model_weights_original_syn4[\"layer1_b\"] = model_syn4_dict_orig['gc1.bias'].detach()\n",
    "model_weights_original_syn4[\"layer2_W\"] = model_syn4_dict_orig['gc2.weight'].detach()\n",
    "model_weights_original_syn4[\"layer2_b\"] = model_syn4_dict_orig['gc2.bias'].detach()\n",
    "model_weights_original_syn4[\"layer3_W\"] = model_syn4_dict_orig['gc3.weight'].detach()\n",
    "model_weights_original_syn4[\"layer3_b\"] = model_syn4_dict_orig['gc3.bias'].detach()\n",
    "model_weights_original_syn4[\"lin_weight\"] = model_syn4_dict_orig['lin.weight'].detach()\n",
    "model_weights_original_syn4[\"lin_b\"] = model_syn4_dict_orig['lin.bias'].detach()\n",
    "\n",
    "model_weights_original_syn5 = dict()\n",
    "model_weights_original_syn5[\"layer1_W\"] = model_syn5_dict_orig['gc1.weight'].detach()\n",
    "model_weights_original_syn5[\"layer1_b\"] = model_syn5_dict_orig['gc1.bias'].detach()\n",
    "model_weights_original_syn5[\"layer2_W\"] = model_syn5_dict_orig['gc2.weight'].detach()\n",
    "model_weights_original_syn5[\"layer2_b\"] = model_syn5_dict_orig['gc2.bias'].detach()\n",
    "model_weights_original_syn5[\"layer3_W\"] = model_syn5_dict_orig['gc3.weight'].detach()\n",
    "model_weights_original_syn5[\"layer3_b\"] = model_syn5_dict_orig['gc3.bias'].detach()\n",
    "model_weights_original_syn5[\"lin_weight\"] = model_syn5_dict_orig['lin.weight'].detach()\n",
    "model_weights_original_syn5[\"lin_b\"] = model_syn5_dict_orig['lin.bias'].detach()"
   ]
  },
  {
   "cell_type": "markdown",
   "id": "f9e4c5d4",
   "metadata": {},
   "source": [
    "### Use the CF-GNNExplainer to find the counterfactual explanations and metrics"
   ]
  },
  {
   "cell_type": "code",
   "execution_count": 7,
   "id": "5ad258fa",
   "metadata": {},
   "outputs": [
    {
     "name": "stderr",
     "output_type": "stream",
     "text": [
      "/Users/janneke/Documents/GitHub/CF-GNNExplainer-recreation/gcn_perturbation_matrix.py:187: UserWarning: Implicit dimension choice for log_softmax has been deprecated. Change the call to include dim=X as an argument.\n",
      "  nll_loss_part = nll_loss(F.log_softmax(output_g), target=prediction_original)\n"
     ]
    },
    {
     "name": "stdout",
     "output_type": "stream",
     "text": [
      "Syn1, mean sparsity: 0.9880629164070579\n",
      "Syn1, fidelity: 0.1785714285714286\n",
      "Syn1, mean accuracy (edges): 0.9935897435897436\n",
      "Syn1, mean accuracy (vertices): 0.9967948717948718\n",
      "Syn1, mean explanation size: 2.0869565217391304\n",
      "\n",
      "Syn1, std sparsity: 0.0216379374997368\n",
      "Syn1, std accuracy (edges): 0.05661385170722979\n",
      "Syn1, std accuracy (vertices): 0.028306925853614894\n",
      "Syn1, std explanation size: 2.230432329232618\n"
     ]
    }
   ],
   "source": [
    "# seed\n",
    "np.random.seed(42)\n",
    "torch.manual_seed(42)\n",
    "\n",
    "# hyperparameters\n",
    "alpha_orig_syn1 = 0.1\n",
    "beta_orig_syn1 = 0.5\n",
    "momentum_orig_syn1 = 0.9\n",
    "nr_iterations_orig_syn1 = 500\n",
    "\n",
    "# get counterfactual examples\n",
    "counterfactual_examples_syn1_orig, adjacency_neighbourhoods_syn1_orig, mapping_vertices_syn1_orig, number_counterfactual_examples_syn1_orig = find_counterfactual_explanations(test_indices_syn1, model_syn1_orig, predictions_1_orig, labels_syn1, features_syn1, adjacency_matrix_syn1, \n",
    "                                                                                                                                                    model_weights_original_syn1, alpha_orig_syn1, beta_orig_syn1, momentum_orig_syn1, 3, nr_iterations_orig_syn1)\n",
    "\n",
    "sparsity_mean_orig_syn1, sparsity_std_orig_syn1 = sparsity(adjacency_neighbourhoods_syn1_orig, counterfactual_examples_syn1_orig)\n",
    "fidelity_orig_syn1 = fidelity(len(test_indices_syn1), number_counterfactual_examples_syn1_orig)\n",
    "accuracy_edge_mean_orig_syn1, accuracy_edge_std_orig_syn1, accuracy_vertices_mean_orig_syn1, accuracy_vertices_std_orig_syn1  = accuracy_explanation(test_indices_syn1, predictions_1_orig, adjacency_neighbourhoods_syn1_orig, counterfactual_examples_syn1_orig, mapping_vertices_syn1_orig)\n",
    "explanation_size_mean_orig_syn1, explanation_size_std_orig_syn1, explanation_size_list_orig_syn1 = explanation_size(counterfactual_examples_syn1_orig, adjacency_neighbourhoods_syn1_orig)\n",
    "\n",
    "print(\"Syn1, mean sparsity:\", sparsity_mean_orig_syn1)\n",
    "print(\"Syn1, fidelity:\", fidelity_orig_syn1)\n",
    "print(\"Syn1, mean accuracy (edges):\", accuracy_edge_mean_orig_syn1)\n",
    "print(\"Syn1, mean accuracy (vertices):\", accuracy_vertices_mean_orig_syn1)\n",
    "print(\"Syn1, mean explanation size:\", explanation_size_mean_orig_syn1)\n",
    "print()\n",
    "print(\"Syn1, std sparsity:\", sparsity_std_orig_syn1)\n",
    "print(\"Syn1, std accuracy (edges):\", accuracy_edge_std_orig_syn1)\n",
    "print(\"Syn1, std accuracy (vertices):\", accuracy_vertices_std_orig_syn1)\n",
    "print(\"Syn1, std explanation size:\", explanation_size_std_orig_syn1)"
   ]
  },
  {
   "cell_type": "code",
   "execution_count": 8,
   "id": "446977f4",
   "metadata": {},
   "outputs": [
    {
     "name": "stdout",
     "output_type": "stream",
     "text": [
      "Syn4, mean sparsity: 0.916360701158129\n",
      "Syn4, fidelity: 0.17142857142857137\n",
      "Syn4, mean accuracy (edges): 0.9509803921568627\n",
      "Syn4, mean accuracy (vertices): 0.9722222222222222\n",
      "Syn4, mean explanation size: 1.5655172413793104\n",
      "\n",
      "Syn4, std sparsity: 0.04909336212398611\n",
      "Syn4, std accuracy (edges): 0.20627413703090153\n",
      "Syn4, std accuracy (vertices): 0.11979921473804346\n",
      "Syn4, std explanation size: 1.1535801343802612\n"
     ]
    }
   ],
   "source": [
    "# seed\n",
    "np.random.seed(42)\n",
    "torch.manual_seed(42)\n",
    "\n",
    "# hyperparameters\n",
    "alpha_orig_syn4 = 0.1\n",
    "beta_orig_syn4 = 0.5\n",
    "momentum_orig_syn4 = 0\n",
    "nr_iterations_orig_syn4 = 500\n",
    "\n",
    "# get counterfactual examples\n",
    "counterfactual_examples_syn4_orig, adjacency_neighbourhoods_syn4_orig, mapping_vertices_syn4_orig, number_counterfactual_examples_syn4_orig = find_counterfactual_explanations(test_indices_syn4, model_syn4_orig, predictions_4_orig, labels_syn4, features_syn4, adjacency_matrix_syn4, \n",
    "                                                                                                                                                    model_weights_original_syn4, alpha_orig_syn4, beta_orig_syn4, momentum_orig_syn4, 3, nr_iterations_orig_syn4)\n",
    "\n",
    "sparsity_mean_orig_syn4, sparsity_std_orig_syn4 = sparsity(adjacency_neighbourhoods_syn4_orig, counterfactual_examples_syn4_orig)\n",
    "fidelity_orig_syn4 = fidelity(len(test_indices_syn4), number_counterfactual_examples_syn4_orig)\n",
    "accuracy_edge_mean_orig_syn4, accuracy_edge_std_orig_syn4, accuracy_vertices_mean_orig_syn4, accuracy_vertices_std_orig_syn4 = accuracy_explanation(test_indices_syn4, predictions_4_orig, adjacency_neighbourhoods_syn4_orig, counterfactual_examples_syn4_orig, mapping_vertices_syn4_orig)\n",
    "explanation_size_mean_orig_syn4, explanation_size_std_orig_syn4, explanation_size_list_orig_syn4 = explanation_size(counterfactual_examples_syn4_orig, adjacency_neighbourhoods_syn4_orig)\n",
    "\n",
    "print(\"Syn4, mean sparsity:\", sparsity_mean_orig_syn4)\n",
    "print(\"Syn4, fidelity:\", fidelity_orig_syn4)\n",
    "print(\"Syn4, mean accuracy (edges):\", accuracy_edge_mean_orig_syn4)\n",
    "print(\"Syn4, mean accuracy (vertices):\", accuracy_vertices_mean_orig_syn4)\n",
    "print(\"Syn4, mean explanation size:\", explanation_size_mean_orig_syn4)\n",
    "print()\n",
    "print(\"Syn4, std sparsity:\", sparsity_std_orig_syn4)\n",
    "print(\"Syn4, std accuracy (edges):\", accuracy_edge_std_orig_syn4)\n",
    "print(\"Syn4, std accuracy (vertices):\", accuracy_vertices_std_orig_syn4)\n",
    "print(\"Syn4, std explanation size:\", explanation_size_std_orig_syn4)"
   ]
  },
  {
   "cell_type": "code",
   "execution_count": 26,
   "id": "241bfa95",
   "metadata": {},
   "outputs": [
    {
     "name": "stderr",
     "output_type": "stream",
     "text": [
      "/Users/janneke/Documents/GitHub/CF-GNNExplainer-recreation/gcn_perturbation_matrix.py:187: UserWarning: Implicit dimension choice for log_softmax has been deprecated. Change the call to include dim=X as an argument.\n",
      "  nll_loss_part = nll_loss(F.log_softmax(output_g), target=prediction_original)\n"
     ]
    },
    {
     "name": "stdout",
     "output_type": "stream",
     "text": [
      "Syn5, mean sparsity: 0.9469845265236888\n",
      "Syn5, fidelity: 0.04453441295546556\n",
      "Syn5, mean accuracy (edges): 0.9113475177304965\n",
      "Syn4, mean accuracy (vertices): 0.9408983451536643\n",
      "Syn5, mean explanation size: 1.3305084745762712\n",
      "\n",
      "Syn5, std sparsity: 0.04171070244423978\n",
      "Syn5, std accuracy (edges): 0.28210742598762933\n",
      "Syn4, std accuracy (vertices): 0.2003318197520764\n",
      "Syn5, std explanation size: 0.7211702634357896\n"
     ]
    }
   ],
   "source": [
    "# seed\n",
    "np.random.seed(42)\n",
    "torch.manual_seed(42)\n",
    "\n",
    "# hyperparameters\n",
    "alpha_orig_syn5 = 0.1\n",
    "beta_orig_syn5 = 0.5\n",
    "momentum_orig_syn5 = 0\n",
    "nr_iterations_orig_syn5 = 500\n",
    "\n",
    "# get counterfactual examples\n",
    "counterfactual_examples_syn5_orig, adjacency_neighbourhoods_syn5_orig, mapping_vertices_syn5_orig, number_counterfactual_examples_syn5_orig = find_counterfactual_explanations(test_indices_syn5, model_syn5_orig, predictions_5_orig, labels_syn5, features_syn5, adjacency_matrix_syn5, \n",
    "                                                                                                                                                    model_weights_original_syn5, alpha_orig_syn5, beta_orig_syn5, momentum_orig_syn5, 3, nr_iterations_orig_syn5)\n",
    "\n",
    "sparsity_mean_orig_syn5, sparsity_std_orig_syn5 = sparsity(adjacency_neighbourhoods_syn5_orig, counterfactual_examples_syn5_orig)\n",
    "fidelity_orig_syn5 = fidelity(len(test_indices_syn5), number_counterfactual_examples_syn5_orig)\n",
    "accuracy_edge_mean_orig_syn5, accuracy_edge_std_orig_syn5, accuracy_vertices_mean_orig_syn5, accuracy_vertices_std_orig_syn5 = accuracy_explanation(test_indices_syn5, predictions_5_orig, adjacency_neighbourhoods_syn5_orig, counterfactual_examples_syn5_orig, mapping_vertices_syn5_orig)\n",
    "explanation_size_mean_orig_syn5, explanation_size_std_orig_syn5, explanation_size_list_orig_syn5 = explanation_size(counterfactual_examples_syn5_orig, adjacency_neighbourhoods_syn5_orig)\n",
    "\n",
    "print(\"Syn5, mean sparsity:\", sparsity_mean_orig_syn5)\n",
    "print(\"Syn5, fidelity:\", fidelity_orig_syn5)\n",
    "print(\"Syn5, mean accuracy (edges):\", accuracy_edge_mean_orig_syn5)\n",
    "print(\"Syn4, mean accuracy (vertices):\", accuracy_vertices_mean_orig_syn5)\n",
    "print(\"Syn5, mean explanation size:\", explanation_size_mean_orig_syn5)\n",
    "print()\n",
    "print(\"Syn5, std sparsity:\", sparsity_std_orig_syn5)\n",
    "print(\"Syn5, std accuracy (edges):\", accuracy_edge_std_orig_syn5)\n",
    "print(\"Syn4, std accuracy (vertices):\", accuracy_vertices_std_orig_syn5)\n",
    "print(\"Syn5, std explanation size:\", explanation_size_std_orig_syn5)"
   ]
  },
  {
   "cell_type": "markdown",
   "id": "492a2db3",
   "metadata": {},
   "source": [
    "## Part 2: Explanation framework with my own GCN:"
   ]
  },
  {
   "cell_type": "markdown",
   "id": "805f4bd5",
   "metadata": {},
   "source": [
    "### Get the original models"
   ]
  },
  {
   "cell_type": "code",
   "execution_count": 10,
   "id": "e5a7095f",
   "metadata": {},
   "outputs": [],
   "source": [
    "model_syn1_mine = torch.load('models/syn1model.pt')\n",
    "model_syn4_mine = torch.load('models/syn4model.pt')\n",
    "model_syn5_mine = torch.load('models/syn5model.pt')"
   ]
  },
  {
   "cell_type": "markdown",
   "id": "6db0134b",
   "metadata": {},
   "source": [
    "### Get the original predictions"
   ]
  },
  {
   "cell_type": "code",
   "execution_count": 11,
   "id": "2095a9eb",
   "metadata": {},
   "outputs": [
    {
     "name": "stdout",
     "output_type": "stream",
     "text": [
      "Test accuracy of Syn1 data:  0.9928571428571429\n",
      "Test accuracy of Syn4 data:  0.9142857142857143\n",
      "Test accuracy of Syn5 data:  0.8623481781376519\n"
     ]
    }
   ],
   "source": [
    "model_syn1_mine.eval()\n",
    "outputs_syn1_mine = model_syn1_mine(features_syn1, sparse_adj_1)\n",
    "_, predictions_1_mine = torch.max(outputs_syn1_mine.data, 1)\n",
    "print(\"Test accuracy of Syn1 data: \", accuracy_score(labels_syn1[test_indices_syn1], predictions_1_mine[test_indices_syn1]))\n",
    "\n",
    "model_syn4_mine.eval()\n",
    "outputs_syn4_mine = model_syn4_mine(features_syn4, sparse_adj_4)\n",
    "_, predictions_4_mine = torch.max(outputs_syn4_mine.data, 1)\n",
    "print(\"Test accuracy of Syn4 data: \", accuracy_score(labels_syn4[test_indices_syn4], predictions_4_mine[test_indices_syn4]))\n",
    "\n",
    "model_syn5_mine.eval()\n",
    "outputs_syn5_mine = model_syn5_mine(features_syn5, sparse_adj_5)\n",
    "_, predictions_5_mine = torch.max(outputs_syn5_mine.data, 1)\n",
    "print(\"Test accuracy of Syn5 data: \", accuracy_score(labels_syn5[test_indices_syn5], predictions_5_mine[test_indices_syn5]))"
   ]
  },
  {
   "cell_type": "markdown",
   "id": "bb4c4727",
   "metadata": {},
   "source": [
    "### Put the weights in the right dictionaries"
   ]
  },
  {
   "cell_type": "code",
   "execution_count": 12,
   "id": "eaf9522b",
   "metadata": {},
   "outputs": [],
   "source": [
    "model_weights_mine_syn1 = dict()\n",
    "model_weights_mine_syn1[\"layer1_W\"] = model_syn1_mine.gcn_layer_1.W.detach()\n",
    "model_weights_mine_syn1[\"layer1_b\"] = model_syn1_mine.gcn_layer_1.b.detach()\n",
    "model_weights_mine_syn1[\"layer2_W\"] = model_syn1_mine.gcn_layer_2.W.detach()\n",
    "model_weights_mine_syn1[\"layer2_b\"] = model_syn1_mine.gcn_layer_2.b.detach()\n",
    "model_weights_mine_syn1[\"layer3_W\"] = model_syn1_mine.gcn_layer_3.W.detach()\n",
    "model_weights_mine_syn1[\"layer3_b\"] = model_syn1_mine.gcn_layer_3.b.detach()\n",
    "model_weights_mine_syn1[\"lin_weight\"] = model_syn1_mine.linear_layer.weight.detach()\n",
    "model_weights_mine_syn1[\"lin_b\"] = model_syn1_mine.linear_layer.bias.detach()\n",
    "\n",
    "model_weights_mine_syn4 = dict()\n",
    "model_weights_mine_syn4[\"layer1_W\"] = model_syn4_mine.gcn_layer_1.W.detach()\n",
    "model_weights_mine_syn4[\"layer1_b\"] = model_syn4_mine.gcn_layer_1.b.detach()\n",
    "model_weights_mine_syn4[\"layer2_W\"] = model_syn4_mine.gcn_layer_2.W.detach()\n",
    "model_weights_mine_syn4[\"layer2_b\"] = model_syn4_mine.gcn_layer_2.b.detach()\n",
    "model_weights_mine_syn4[\"layer3_W\"] = model_syn4_mine.gcn_layer_3.W.detach()\n",
    "model_weights_mine_syn4[\"layer3_b\"] = model_syn4_mine.gcn_layer_3.b.detach()\n",
    "model_weights_mine_syn4[\"lin_weight\"] = model_syn4_mine.linear_layer.weight.detach()\n",
    "model_weights_mine_syn4[\"lin_b\"] = model_syn4_mine.linear_layer.bias.detach()\n",
    "\n",
    "model_weights_mine_syn5 = dict()\n",
    "model_weights_mine_syn5[\"layer1_W\"] = model_syn5_mine.gcn_layer_1.W.detach()\n",
    "model_weights_mine_syn5[\"layer1_b\"] = model_syn5_mine.gcn_layer_1.b.detach()\n",
    "model_weights_mine_syn5[\"layer2_W\"] = model_syn5_mine.gcn_layer_2.W.detach()\n",
    "model_weights_mine_syn5[\"layer2_b\"] = model_syn5_mine.gcn_layer_2.b.detach()\n",
    "model_weights_mine_syn5[\"layer3_W\"] = model_syn5_mine.gcn_layer_3.W.detach()\n",
    "model_weights_mine_syn5[\"layer3_b\"] = model_syn5_mine.gcn_layer_3.b.detach()\n",
    "model_weights_mine_syn5[\"lin_weight\"] = model_syn5_mine.linear_layer.weight.detach()\n",
    "model_weights_mine_syn5[\"lin_b\"] = model_syn5_mine.linear_layer.bias.detach()"
   ]
  },
  {
   "cell_type": "markdown",
   "id": "b3df6467",
   "metadata": {},
   "source": [
    "### Find the CF-explanations and the metrics"
   ]
  },
  {
   "cell_type": "code",
   "execution_count": 14,
   "id": "94c83d32",
   "metadata": {},
   "outputs": [
    {
     "name": "stdout",
     "output_type": "stream",
     "text": [
      "Syn1, mean sparsity: 0.9686640287972088\n",
      "Syn1, fidelity: 0.18571428571428572\n",
      "Syn1, mean accuracy (edges): 0.8867521367521367\n",
      "Syn4, mean accuracy (vertices): 0.9282051282051282\n",
      "Syn1, mean explanation size: 2.175438596491228\n",
      "\n",
      "Syn1, std sparsity: 0.0711332515063648\n",
      "Syn1, std accuracy (edges): 0.19873987898139492\n",
      "Syn4, std accuracy (vertices): 0.1229832310718625\n",
      "Syn1, std explanation size: 1.221094924557593\n"
     ]
    }
   ],
   "source": [
    "# seed\n",
    "np.random.seed(42)\n",
    "torch.manual_seed(42)\n",
    "\n",
    "# hyperparameters\n",
    "alpha_mine_syn1 = 0.1\n",
    "beta_mine_syn1 = 0.5\n",
    "momentum_mine_syn1 = 0.9\n",
    "nr_iterations_mine_syn1 = 500\n",
    "\n",
    "# get counterfactual examples\n",
    "counterfactual_examples_syn1_mine, adjacency_neighbourhoods_syn1_mine, mapping_vertices_syn1_mine, number_counterfactual_examples_syn1_mine = find_counterfactual_explanations(test_indices_syn1, model_syn1_mine, predictions_1_mine, labels_syn1, features_syn1, adjacency_matrix_syn1, \n",
    "                                                                                                                                                    model_weights_mine_syn1, alpha_mine_syn1, beta_mine_syn1, momentum_mine_syn1, 3, nr_iterations_mine_syn1)\n",
    "\n",
    "sparsity_mean_mine_syn1, sparsity_std_mine_syn1 = sparsity(adjacency_neighbourhoods_syn1_mine, counterfactual_examples_syn1_mine)\n",
    "fidelity_mine_syn1 = fidelity(len(test_indices_syn1), number_counterfactual_examples_syn1_mine)\n",
    "accuracy_edge_mean_mine_syn1, accuracy_edge_std_mine_syn1, accuracy_vertices_mean_mine_syn1, accuracy_vertices_std_mine_syn1  = accuracy_explanation(test_indices_syn1, predictions_1_mine, adjacency_neighbourhoods_syn1_mine, counterfactual_examples_syn1_mine, mapping_vertices_syn1_mine)\n",
    "explanation_size_mean_mine_syn1, explanation_size_std_mine_syn1, explanation_size_list_mine_syn1 = explanation_size(counterfactual_examples_syn1_mine, adjacency_neighbourhoods_syn1_mine)\n",
    "\n",
    "print(\"Syn1, mean sparsity:\", sparsity_mean_mine_syn1)\n",
    "print(\"Syn1, fidelity:\", fidelity_mine_syn1)\n",
    "print(\"Syn1, mean accuracy (edges):\", accuracy_edge_mean_mine_syn1)\n",
    "print(\"Syn4, mean accuracy (vertices):\", accuracy_vertices_mean_mine_syn1)\n",
    "print(\"Syn1, mean explanation size:\", explanation_size_mean_mine_syn1)\n",
    "print()\n",
    "print(\"Syn1, std sparsity:\", sparsity_std_mine_syn1)\n",
    "print(\"Syn1, std accuracy (edges):\", accuracy_edge_std_mine_syn1)\n",
    "print(\"Syn4, std accuracy (vertices):\", accuracy_vertices_std_mine_syn1)\n",
    "print(\"Syn1, std explanation size:\", explanation_size_std_mine_syn1)"
   ]
  },
  {
   "cell_type": "code",
   "execution_count": 15,
   "id": "455e922a",
   "metadata": {},
   "outputs": [
    {
     "name": "stdout",
     "output_type": "stream",
     "text": [
      "Syn4, mean sparsity: 0.9120402694747284\n",
      "Syn4, fidelity: 0.2114285714285714\n",
      "Syn4, mean accuracy (edges): 0.8829787234042553\n",
      "Syn4, mean accuracy (vertices): 0.9202127659574468\n",
      "Syn4, mean explanation size: 1.6159420289855073\n",
      "\n",
      "Syn4, std sparsity: 0.04844316958332157\n",
      "Syn4, std accuracy (edges): 0.29877950932023306\n",
      "Syn4, std accuracy (vertices): 0.20920646512686653\n",
      "Syn4, std explanation size: 1.291875023718162\n"
     ]
    }
   ],
   "source": [
    "# seed\n",
    "np.random.seed(42)\n",
    "torch.manual_seed(42)\n",
    "\n",
    "# hyperparameters\n",
    "alpha_mine_syn4 = 0.1\n",
    "beta_mine_syn4 = 0.5\n",
    "momentum_mine_syn4 = 0\n",
    "nr_iterations_mine_syn4 = 500\n",
    "\n",
    "# get counterfactual examples\n",
    "counterfactual_examples_syn4_mine, adjacency_neighbourhoods_syn4_mine, mapping_vertices_syn4_mine, number_counterfactual_examples_syn4_mine = find_counterfactual_explanations(test_indices_syn4, model_syn4_mine, predictions_4_mine, labels_syn4, features_syn4, adjacency_matrix_syn4, \n",
    "                                                                                                                                                    model_weights_mine_syn4, alpha_mine_syn4, beta_mine_syn4, momentum_mine_syn4, 3, nr_iterations_mine_syn4)\n",
    "\n",
    "sparsity_mean_mine_syn4, sparsity_std_mine_syn4 = sparsity(adjacency_neighbourhoods_syn4_mine, counterfactual_examples_syn4_mine)\n",
    "fidelity_mine_syn4 = fidelity(len(test_indices_syn4), number_counterfactual_examples_syn4_mine)\n",
    "accuracy_edge_mean_mine_syn4, accuracy_edge_std_mine_syn4, accuracy_vertices_mean_mine_syn4, accuracy_vertices_std_mine_syn4  = accuracy_explanation(test_indices_syn4, predictions_4_mine, adjacency_neighbourhoods_syn4_mine, counterfactual_examples_syn4_mine, mapping_vertices_syn4_mine)\n",
    "explanation_size_mean_mine_syn4, explanation_size_std_mine_syn4, explanation_size_list_mine_syn4 = explanation_size(counterfactual_examples_syn4_mine, adjacency_neighbourhoods_syn4_mine)\n",
    "\n",
    "print(\"Syn4, mean sparsity:\", sparsity_mean_mine_syn4)\n",
    "print(\"Syn4, fidelity:\", fidelity_mine_syn4)\n",
    "print(\"Syn4, mean accuracy (edges):\", accuracy_edge_mean_mine_syn4)\n",
    "print(\"Syn4, mean accuracy (vertices):\", accuracy_vertices_mean_mine_syn4)\n",
    "print(\"Syn4, mean explanation size:\", explanation_size_mean_mine_syn4)\n",
    "print()\n",
    "print(\"Syn4, std sparsity:\", sparsity_std_mine_syn4)\n",
    "print(\"Syn4, std accuracy (edges):\", accuracy_edge_std_mine_syn4)\n",
    "print(\"Syn4, std accuracy (vertices):\", accuracy_vertices_std_mine_syn4)\n",
    "print(\"Syn4, std explanation size:\", explanation_size_std_mine_syn4)"
   ]
  },
  {
   "cell_type": "code",
   "execution_count": 16,
   "id": "2e8e4a97",
   "metadata": {},
   "outputs": [
    {
     "name": "stdout",
     "output_type": "stream",
     "text": [
      "Syn5, mean sparsity: 0.9421085221328489\n",
      "Syn5, fidelity: 0.06882591093117407\n",
      "Syn5, mean accuracy (edges): 0.9833333333333333\n",
      "Syn5, mean accuracy (vertices): 0.9877777777777778\n",
      "Syn5, mean explanation size: 1.4739130434782608\n",
      "\n",
      "Syn5, std sparsity: 0.04504993636499616\n",
      "Syn5, std accuracy (edges): 0.12174164892416255\n",
      "Syn5, std accuracy (vertices): 0.0947870698748574\n",
      "Syn5, std explanation size: 0.7800556420106314\n"
     ]
    }
   ],
   "source": [
    "# seed\n",
    "np.random.seed(42)\n",
    "torch.manual_seed(42)\n",
    "\n",
    "# hyperparameters\n",
    "alpha_mine_syn5 = 0.1\n",
    "beta_mine_syn5 = 0.5\n",
    "momentum_mine_syn5 = 0\n",
    "nr_iterations_mine_syn5 = 500\n",
    "\n",
    "# get counterfactual examples\n",
    "counterfactual_examples_syn5_mine, adjacency_neighbourhoods_syn5_mine, mapping_vertices_syn5_mine, number_counterfactual_examples_syn5_mine = find_counterfactual_explanations(test_indices_syn5, model_syn5_mine, predictions_5_mine, labels_syn5, features_syn5, adjacency_matrix_syn5, \n",
    "                                                                                                                                                    model_weights_mine_syn5, alpha_mine_syn5, beta_mine_syn5, momentum_mine_syn5, 3, nr_iterations_mine_syn5)\n",
    "\n",
    "sparsity_mean_mine_syn5, sparsity_std_mine_syn5 = sparsity(adjacency_neighbourhoods_syn5_mine, counterfactual_examples_syn5_mine)\n",
    "fidelity_mine_syn5 = fidelity(len(test_indices_syn5), number_counterfactual_examples_syn5_mine)\n",
    "accuracy_edge_mean_mine_syn5, accuracy_edge_std_mine_syn5, accuracy_vertices_mean_mine_syn5, accuracy_vertices_std_mine_syn5  = accuracy_explanation(test_indices_syn5, predictions_5_mine, adjacency_neighbourhoods_syn5_mine, counterfactual_examples_syn5_mine, mapping_vertices_syn5_mine)\n",
    "explanation_size_mean_mine_syn5, explanation_size_std_mine_syn5, explanation_size_list_mine_syn5 = explanation_size(counterfactual_examples_syn5_mine, adjacency_neighbourhoods_syn5_mine)\n",
    "\n",
    "print(\"Syn5, mean sparsity:\", sparsity_mean_mine_syn5)\n",
    "print(\"Syn5, fidelity:\", fidelity_mine_syn5)\n",
    "print(\"Syn5, mean accuracy (edges):\", accuracy_edge_mean_mine_syn5)\n",
    "print(\"Syn5, mean accuracy (vertices):\", accuracy_vertices_mean_mine_syn5)\n",
    "print(\"Syn5, mean explanation size:\", explanation_size_mean_mine_syn5)\n",
    "print()\n",
    "print(\"Syn5, std sparsity:\", sparsity_std_mine_syn5)\n",
    "print(\"Syn5, std accuracy (edges):\", accuracy_edge_std_mine_syn5)\n",
    "print(\"Syn5, std accuracy (vertices):\", accuracy_vertices_std_mine_syn5)\n",
    "print(\"Syn5, std explanation size:\", explanation_size_std_mine_syn5)"
   ]
  },
  {
   "cell_type": "markdown",
   "id": "b70daacf",
   "metadata": {},
   "source": [
    "## Part 3: Explanation framework with extended GCN:"
   ]
  },
  {
   "cell_type": "markdown",
   "id": "f7efa8dd",
   "metadata": {},
   "source": [
    "### Find the CF-explanations and the metrics (do this 5 times, and get the mean of the metrics --> as this uses stochasticity)"
   ]
  },
  {
   "cell_type": "code",
   "execution_count": 17,
   "id": "6503d7a8",
   "metadata": {},
   "outputs": [
    {
     "name": "stdout",
     "output_type": "stream",
     "text": [
      "The mean of all these is taken of five runs:\n",
      "Syn1, mean sparsity: 0.9741222128098174\n",
      "Syn1, fidelity: 0.14\n",
      "Syn1, mean accuracy (edges): 0.8480899948005212\n",
      "Syn1, mean accuracy (vertices): 0.8822141195030148\n",
      "Syn1, mean explanation size: 4.002710929379203\n",
      "\n",
      "Syn1, std sparsity: 0.057250432375758276\n",
      "Syn1, std accuracy (edges): 0.24556280349156454\n",
      "Syn1, std accuracy (vertices): 0.19397755046628382\n",
      "Syn1, std explanation size: 4.097881462011619\n"
     ]
    }
   ],
   "source": [
    "# seed\n",
    "np.random.seed(42)\n",
    "torch.manual_seed(42)\n",
    "\n",
    "# nr of repeats to reduce uncertainty\n",
    "nr_iter = 5\n",
    "\n",
    "# lists of measures:\n",
    "mean_spars_syn1_list = []\n",
    "std_spars_syn1_list = []\n",
    "fidelity_syn1_list = []\n",
    "mean_accuracy_edge_syn1_list = []\n",
    "std_accuracy_edge_syn1_list = []\n",
    "mean_expl_size_syn1_list = []\n",
    "std_expl_size_syn1_list = []\n",
    "mean_accuracy_vertices_syn1_list = []\n",
    "std_accuracy_vertices_syn1_list = []\n",
    "\n",
    "for iteration in range(nr_iter):\n",
    "    # hyperparameters\n",
    "    alpha_ext_syn1 = 0.1\n",
    "    beta_ext_syn1 = 0.5\n",
    "    momentum_ext_syn1 = 0.9\n",
    "    nr_iterations_ext_syn1 = 500\n",
    "\n",
    "    # get counterfactual examples\n",
    "    counterfactual_examples_syn1_ext, adjacency_neighbourhoods_syn1_ext, mapping_vertices_syn1_ext, number_counterfactual_examples_syn1_ext = find_counterfactual_explanations(test_indices_syn1, model_syn1_mine, predictions_1_mine, labels_syn1, features_syn1, adjacency_matrix_syn1, \n",
    "                                                                                                                                                        model_weights_mine_syn1, alpha_ext_syn1, beta_ext_syn1, momentum_ext_syn1, 3, nr_iterations_ext_syn1, extended=True)\n",
    "\n",
    "    sparsity_mean_ext_syn1, sparsity_std_ext_syn1 = sparsity(adjacency_neighbourhoods_syn1_ext, counterfactual_examples_syn1_ext)\n",
    "    fidelity_ext_syn1 = fidelity(len(test_indices_syn1), number_counterfactual_examples_syn1_ext)\n",
    "    accuracy_edge_mean_ext_syn1, accuracy_edge_std_ext_syn1, accuracy_vertices_mean_ext_syn1, accuracy_vertices_std_ext_syn1 = accuracy_explanation(test_indices_syn1, predictions_1_mine, adjacency_neighbourhoods_syn1_ext, counterfactual_examples_syn1_ext, mapping_vertices_syn1_ext)\n",
    "    explanation_size_mean_ext_syn1, explanation_size_std_ext_syn1, explanation_size_list_ext_syn1 = explanation_size(counterfactual_examples_syn1_ext, adjacency_neighbourhoods_syn1_ext)\n",
    "\n",
    "    mean_spars_syn1_list.append(sparsity_mean_ext_syn1)\n",
    "    std_spars_syn1_list.append(sparsity_std_ext_syn1)\n",
    "    fidelity_syn1_list.append(fidelity_ext_syn1)\n",
    "    mean_accuracy_edge_syn1_list.append(accuracy_edge_mean_ext_syn1)\n",
    "    std_accuracy_edge_syn1_list.append(accuracy_edge_std_ext_syn1)\n",
    "    mean_expl_size_syn1_list.append(explanation_size_mean_ext_syn1)\n",
    "    std_expl_size_syn1_list.append(explanation_size_std_ext_syn1)\n",
    "    mean_accuracy_vertices_syn1_list.append(accuracy_vertices_mean_ext_syn1)\n",
    "    std_accuracy_vertices_syn1_list.append(accuracy_vertices_std_ext_syn1)\n",
    "    \n",
    "print(\"The mean of all these is taken of five runs:\")\n",
    "print(\"Syn1, mean sparsity:\", mean(mean_spars_syn1_list))\n",
    "print(\"Syn1, fidelity:\", mean(fidelity_syn1_list))\n",
    "print(\"Syn1, mean accuracy (edges):\", mean(mean_accuracy_edge_syn1_list))\n",
    "print(\"Syn1, mean accuracy (vertices):\", mean(mean_accuracy_vertices_syn1_list))\n",
    "print(\"Syn1, mean explanation size:\", mean(mean_expl_size_syn1_list))\n",
    "print()\n",
    "print(\"Syn1, std sparsity:\", mean(std_spars_syn1_list))\n",
    "print(\"Syn1, std accuracy (edges):\", mean(std_accuracy_edge_syn1_list))\n",
    "print(\"Syn1, std accuracy (vertices):\", mean(std_accuracy_vertices_syn1_list))\n",
    "print(\"Syn1, std explanation size:\", mean(std_expl_size_syn1_list))"
   ]
  },
  {
   "cell_type": "code",
   "execution_count": 20,
   "id": "40807222",
   "metadata": {},
   "outputs": [
    {
     "name": "stdout",
     "output_type": "stream",
     "text": [
      "The mean of all these is taken of five runs:\n",
      "Syn4, mean sparsity: 0.897185024404845\n",
      "Syn4, fidelity: 0.15428571428571428\n",
      "Syn4, mean accuracy (edges): 0.6360943593377517\n",
      "Syn1, mean accuracy (vertices): 0.6962464406325388\n",
      "Syn4, mean explanation size: 1.9539043564132863\n",
      "\n",
      "Syn4, std sparsity: 0.05676236648202699\n",
      "Syn4, std accuracy (edges): 0.34741182411438476\n",
      "Syn1, std accuracy (vertices): 0.2902152894835715\n",
      "Syn4, std explanation size: 1.4764958630271132\n"
     ]
    }
   ],
   "source": [
    "# seed\n",
    "np.random.seed(42)\n",
    "torch.manual_seed(42)\n",
    "\n",
    "# nr of repeats to reduce uncertainty\n",
    "nr_iter = 5\n",
    "\n",
    "# lists of measures:\n",
    "mean_spars_syn4_list = []\n",
    "std_spars_syn4_list = []\n",
    "fidelity_syn4_list = []\n",
    "mean_accuracy_edge_syn4_list = []\n",
    "std_accuracy_edge_syn4_list = []\n",
    "mean_expl_size_syn4_list = []\n",
    "std_expl_size_syn4_list = []\n",
    "mean_accuracy_vertices_syn4_list = []\n",
    "std_accuracy_vertices_syn4_list = []\n",
    "\n",
    "for iteration in range(nr_iter):\n",
    "    # hyperparameters\n",
    "    alpha_ext_syn4 = 0.1\n",
    "    beta_ext_syn4 = 0.5\n",
    "    momentum_ext_syn4 = 0\n",
    "    nr_iterations_ext_syn4 = 500\n",
    "\n",
    "    # get counterfactual examples\n",
    "    counterfactual_examples_syn4_ext, adjacency_neighbourhoods_syn4_ext, mapping_vertices_syn4_ext, number_counterfactual_examples_syn4_ext = find_counterfactual_explanations(test_indices_syn4, model_syn4_mine, predictions_4_mine, labels_syn4, features_syn4, adjacency_matrix_syn4, \n",
    "                                                                                                                                                        model_weights_mine_syn4, alpha_ext_syn4, beta_ext_syn4, momentum_ext_syn4, 3, nr_iterations_ext_syn4, extended=True)\n",
    "\n",
    "    sparsity_mean_ext_syn4, sparsity_std_ext_syn4 = sparsity(adjacency_neighbourhoods_syn4_ext, counterfactual_examples_syn4_ext)\n",
    "    fidelity_ext_syn4 = fidelity(len(test_indices_syn4), number_counterfactual_examples_syn4_ext)\n",
    "    accuracy_edge_mean_ext_syn4, accuracy_edge_std_ext_syn4, accuracy_vertices_mean_ext_syn4, accuracy_vertices_std_ext_syn4 = accuracy_explanation(test_indices_syn4, predictions_4_mine, adjacency_neighbourhoods_syn4_ext, counterfactual_examples_syn4_ext, mapping_vertices_syn4_ext)\n",
    "    explanation_size_mean_ext_syn4, explanation_size_std_ext_syn4, explanation_size_list_ext_syn4 = explanation_size(counterfactual_examples_syn4_ext, adjacency_neighbourhoods_syn4_ext)\n",
    "\n",
    "    mean_spars_syn4_list.append(sparsity_mean_ext_syn4)\n",
    "    std_spars_syn4_list.append(sparsity_std_ext_syn4)\n",
    "    fidelity_syn4_list.append(fidelity_ext_syn4)\n",
    "    mean_accuracy_edge_syn4_list.append(accuracy_edge_mean_ext_syn4)\n",
    "    std_accuracy_edge_syn4_list.append(accuracy_edge_std_ext_syn4)\n",
    "    mean_expl_size_syn4_list.append(explanation_size_mean_ext_syn4)\n",
    "    std_expl_size_syn4_list.append(explanation_size_std_ext_syn4)\n",
    "    mean_accuracy_vertices_syn4_list.append(accuracy_vertices_mean_ext_syn4)\n",
    "    std_accuracy_vertices_syn4_list.append(accuracy_vertices_std_ext_syn4)\n",
    "    \n",
    "print(\"The mean of all these is taken of five runs:\")\n",
    "print(\"Syn4, mean sparsity:\", mean(mean_spars_syn4_list))\n",
    "print(\"Syn4, fidelity:\", mean(fidelity_syn4_list))\n",
    "print(\"Syn4, mean accuracy (edges):\", mean(mean_accuracy_edge_syn4_list))\n",
    "print(\"Syn1, mean accuracy (vertices):\", mean(mean_accuracy_vertices_syn4_list))\n",
    "print(\"Syn4, mean explanation size:\", mean(mean_expl_size_syn4_list))\n",
    "print()\n",
    "print(\"Syn4, std sparsity:\", mean(std_spars_syn4_list))\n",
    "print(\"Syn4, std accuracy (edges):\", mean(std_accuracy_edge_syn4_list))\n",
    "print(\"Syn1, std accuracy (vertices):\", mean(std_accuracy_vertices_syn4_list))\n",
    "print(\"Syn4, std explanation size:\", mean(std_expl_size_syn4_list))"
   ]
  },
  {
   "cell_type": "code",
   "execution_count": 21,
   "id": "32cf39c3",
   "metadata": {},
   "outputs": [
    {
     "name": "stdout",
     "output_type": "stream",
     "text": [
      "The mean of all these is taken of five runs:\n",
      "Syn5, mean sparsity: 0.9343005552865975\n",
      "Syn5, fidelity: 0.03967611336032388\n",
      "Syn5, mean accuracy (edges): 0.9168622261962616\n",
      "Syn5, mean accuracy (edges): 0.9461054198794915\n",
      "Syn5, mean explanation size: 1.7590848461341404\n",
      "\n",
      "Syn5, std sparsity: 0.044281776633375146\n",
      "Syn5, std accuracy (edges): 0.22139013436691915\n",
      "Syn5, std accuracy (vertices): 0.14843034262360771\n",
      "Syn5, std explanation size: 0.940165166585231\n"
     ]
    }
   ],
   "source": [
    "# seed\n",
    "np.random.seed(42)\n",
    "torch.manual_seed(42)\n",
    "\n",
    "# nr of repeats to reduce uncertainty\n",
    "nr_iter = 5\n",
    "\n",
    "# lists of measures:\n",
    "mean_spars_syn5_list = []\n",
    "std_spars_syn5_list = []\n",
    "fidelity_syn5_list = []\n",
    "mean_accuracy_edge_syn5_list = []\n",
    "std_accuracy_edge_syn5_list = []\n",
    "mean_expl_size_syn5_list = []\n",
    "std_expl_size_syn5_list = []\n",
    "mean_accuracy_vertices_syn5_list = []\n",
    "std_accuracy_vertices_syn5_list = []\n",
    "\n",
    "for iteration in range(nr_iter):\n",
    "    # hyperparameters\n",
    "    alpha_ext_syn5 = 0.1\n",
    "    beta_ext_syn5 = 0.5\n",
    "    momentum_ext_syn5 = 0\n",
    "    nr_iterations_ext_syn5 = 500\n",
    "\n",
    "    # get counterfactual examples\n",
    "    counterfactual_examples_syn5_ext, adjacency_neighbourhoods_syn5_ext, mapping_vertices_syn5_ext, number_counterfactual_examples_syn5_ext = find_counterfactual_explanations(test_indices_syn5, model_syn5_mine, predictions_5_mine, labels_syn5, features_syn5, adjacency_matrix_syn5, \n",
    "                                                                                                                                                        model_weights_mine_syn5, alpha_ext_syn5, beta_ext_syn5, momentum_ext_syn5, 3, nr_iterations_ext_syn5, extended=True)\n",
    "\n",
    "    sparsity_mean_ext_syn5, sparsity_std_ext_syn5 = sparsity(adjacency_neighbourhoods_syn5_ext, counterfactual_examples_syn5_ext)\n",
    "    fidelity_ext_syn5 = fidelity(len(test_indices_syn5), number_counterfactual_examples_syn5_ext)\n",
    "    accuracy_edge_mean_ext_syn5, accuracy_edge_std_ext_syn5, accuracy_vertices_mean_ext_syn5, accuracy_vertices_std_ext_syn5 = accuracy_explanation(test_indices_syn5, predictions_5_mine, adjacency_neighbourhoods_syn5_ext, counterfactual_examples_syn5_ext, mapping_vertices_syn5_ext)\n",
    "    explanation_size_mean_ext_syn5, explanation_size_std_ext_syn5, explanation_size_list_ext_syn5 = explanation_size(counterfactual_examples_syn5_ext, adjacency_neighbourhoods_syn5_ext)\n",
    "\n",
    "    mean_spars_syn5_list.append(sparsity_mean_ext_syn5)\n",
    "    std_spars_syn5_list.append(sparsity_std_ext_syn5)\n",
    "    fidelity_syn5_list.append(fidelity_ext_syn5)\n",
    "    mean_accuracy_edge_syn5_list.append(accuracy_edge_mean_ext_syn5)\n",
    "    std_accuracy_edge_syn5_list.append(accuracy_edge_std_ext_syn5)\n",
    "    mean_expl_size_syn5_list.append(explanation_size_mean_ext_syn5)\n",
    "    std_expl_size_syn5_list.append(explanation_size_std_ext_syn5)\n",
    "    mean_accuracy_vertices_syn5_list.append(accuracy_vertices_mean_ext_syn5)\n",
    "    std_accuracy_vertices_syn5_list.append(accuracy_vertices_std_ext_syn5)\n",
    "    \n",
    "print(\"The mean of all these is taken of five runs:\")\n",
    "print(\"Syn5, mean sparsity:\", mean(mean_spars_syn5_list))\n",
    "print(\"Syn5, fidelity:\", mean(fidelity_syn5_list))\n",
    "print(\"Syn5, mean accuracy (edges):\", mean(mean_accuracy_edge_syn5_list))\n",
    "print(\"Syn5, mean accuracy (edges):\", mean(mean_accuracy_vertices_syn5_list))\n",
    "print(\"Syn5, mean explanation size:\", mean(mean_expl_size_syn5_list))\n",
    "print()\n",
    "print(\"Syn5, std sparsity:\", mean(std_spars_syn5_list))\n",
    "print(\"Syn5, std accuracy (edges):\", mean(std_accuracy_edge_syn5_list))\n",
    "print(\"Syn5, std accuracy (vertices):\", mean(std_accuracy_vertices_syn5_list))\n",
    "print(\"Syn5, std explanation size:\", mean(std_expl_size_syn5_list))"
   ]
  },
  {
   "cell_type": "markdown",
   "id": "895f029e",
   "metadata": {},
   "source": [
    "## Additional: Create plots of the explanation sizes of the different models"
   ]
  },
  {
   "cell_type": "code",
   "execution_count": 22,
   "id": "2f11db50",
   "metadata": {},
   "outputs": [],
   "source": [
    "import matplotlib.pyplot as plt\n",
    "import seaborn as sns"
   ]
  },
  {
   "cell_type": "code",
   "execution_count": 27,
   "id": "7081d71e",
   "metadata": {},
   "outputs": [
    {
     "data": {
      "image/png": "[encoded data removed]",
      "text/plain": [
       "<Figure size 720x504 with 1 Axes>"
      ]
     },
     "metadata": {},
     "output_type": "display_data"
    }
   ],
   "source": [
    "sns.set()\n",
    "\n",
    "plt.hist(explanation_size_list_mine_syn1, density=True)\n",
    "plt.xticks(fontsize=15)\n",
    "plt.yticks(fontsize=15)\n",
    "plt.xlabel('Explanation Size', fontsize=17)\n",
    "plt.ylabel('Density', fontsize=17)\n",
    "\n",
    "figure = plt.gcf()\n",
    "figure.set_size_inches(10, 7)\n",
    "figure.savefig('plots/explanation_size_syn1.png', dpi=100)\n",
    "plt.show()"
   ]
  },
  {
   "cell_type": "code",
   "execution_count": 24,
   "id": "452c6662",
   "metadata": {},
   "outputs": [
    {
     "data": {
      "image/png": "[encoded data removed]",
      "text/plain": [
       "<Figure size 720x504 with 1 Axes>"
      ]
     },
     "metadata": {},
     "output_type": "display_data"
    }
   ],
   "source": [
    "sns.set()\n",
    "\n",
    "plt.hist(explanation_size_list_mine_syn4,density=True)\n",
    "\n",
    "plt.xticks(fontsize=15)\n",
    "plt.yticks(fontsize=15)\n",
    "plt.xlabel('Explanation Size', fontsize=17)\n",
    "plt.ylabel('Density', fontsize=17)\n",
    "\n",
    "figure = plt.gcf()\n",
    "figure.set_size_inches(10, 7)\n",
    "figure.savefig('plots/explanation_size_syn4.png', dpi=100)\n",
    "plt.show()"
   ]
  },
  {
   "cell_type": "code",
   "execution_count": 25,
   "id": "d88ed308",
   "metadata": {},
   "outputs": [
    {
     "data": {
      "image/png": "[encoded data removed]",
      "text/plain": [
       "<Figure size 720x504 with 1 Axes>"
      ]
     },
     "metadata": {},
     "output_type": "display_data"
    }
   ],
   "source": [
    "sns.set()\n",
    "\n",
    "plt.hist(explanation_size_list_mine_syn5, density=True)\n",
    "\n",
    "plt.xticks(fontsize=15)\n",
    "plt.yticks(fontsize=15)\n",
    "plt.xlabel('Explanation Size', fontsize=17)\n",
    "plt.ylabel('Density', fontsize=17)\n",
    "\n",
    "figure = plt.gcf()\n",
    "figure.set_size_inches(10, 7)\n",
    "figure.savefig('plots/explanation_size_syn5.png', dpi=100)\n",
    "plt.show()"
   ]
  },
  {
   "cell_type": "code",
   "execution_count": null,
   "id": "1675b1c2",
   "metadata": {},
   "outputs": [],
   "source": []
  },
  {
   "cell_type": "code",
   "execution_count": null,
   "id": "6a91ce9e",
   "metadata": {},
   "outputs": [],
   "source": []
  }
 ],
 "metadata": {
  "kernelspec": {
   "display_name": "CFGNNExplainerKernel",
   "language": "python",
   "name": "cfgnnexplainerkernel"
  },
  "language_info": {
   "codemirror_mode": {
    "name": "ipython",
    "version": 3
   },
   "file_extension": ".py",
   "mimetype": "text/x-python",
   "name": "python",
   "nbconvert_exporter": "python",
   "pygments_lexer": "ipython3",
   "version": "3.9.15"
  }
 },
 "nbformat": 4,
 "nbformat_minor": 5
}
