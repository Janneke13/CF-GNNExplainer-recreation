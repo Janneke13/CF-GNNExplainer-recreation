{
 "cells": [
  {
   "cell_type": "markdown",
   "id": "7e07c825",
   "metadata": {},
   "source": [
    "# Baselines and their results"
   ]
  },
  {
   "cell_type": "code",
   "execution_count": null,
   "id": "8c864251",
   "metadata": {},
   "outputs": [],
   "source": [
    "from gcn import *\n",
    "from gcn_perturbed import *\n",
    "import torch\n",
    "import numpy"
   ]
  },
  {
   "cell_type": "markdown",
   "id": "87c92ff3",
   "metadata": {},
   "source": [
    "## Random baseline"
   ]
  },
  {
   "cell_type": "markdown",
   "id": "eaa655d9",
   "metadata": {},
   "source": [
    "Steps of the random baseline (according to the paper):\n",
    "1. Randomly initialize P_hat in [-1,1]\n",
    "2. Apply sigmoid and threshold\n",
    "3. Do this for K times, keep minimal CF"
   ]
  },
  {
   "cell_type": "code",
   "execution_count": null,
   "id": "ddddc7a5",
   "metadata": {},
   "outputs": [],
   "source": [
    "def random_baseline(subgraph, node):\n",
    "    pass"
   ]
  },
  {
   "cell_type": "code",
   "execution_count": null,
   "id": "4144c91d",
   "metadata": {},
   "outputs": [],
   "source": [
    "for number in k:\n",
    "    pert_matrix = random_baseline(sub_adj, node_index)\n",
    "    new_matrix = torch.mul(sub_adj, pert_matrix)\n",
    "    sparse_adj_test = get_sparse_adjacency_normalized(features_perturbed.shape[0], adjacency_matrix)\n",
    "    \n",
    "    if old_prediction != model()"
   ]
  },
  {
   "cell_type": "markdown",
   "id": "aa155153",
   "metadata": {},
   "source": [
    "## 1-Hop baseline and remove 1-Hop baseline"
   ]
  },
  {
   "cell_type": "markdown",
   "id": "b9e35663",
   "metadata": {},
   "source": [
    "Steps of the 1-Hop baseline (according to the paper):\n",
    "1. Get ego-graph of node\n",
    "2. Remove every edge not in the ego graph\n",
    "\n",
    "Steps of the Remove 1-Hop baseline (according to the paper):\n",
    "1. Get ego-graph of node\n",
    "2. Remove every edge in the ego graph"
   ]
  },
  {
   "cell_type": "code",
   "execution_count": null,
   "id": "dabbdd2f",
   "metadata": {},
   "outputs": [],
   "source": [
    "def one_hop_baselines(subgraph, node):\n",
    "    # return both the perturbation matrix for the one-hop and remove one-hop baselines IF it is a explanation\n",
    "    pass"
   ]
  },
  {
   "cell_type": "markdown",
   "id": "28792280",
   "metadata": {},
   "source": [
    "## GNNExplainer baseline"
   ]
  },
  {
   "cell_type": "markdown",
   "id": "7075d5f7",
   "metadata": {},
   "source": [
    "Steps of the GNNExplainer baseline (according to the paper):\n",
    "1. Identify the S most relevent edges in prediction.\n",
    "2. Remove these edges\n",
    "3. S in {1,2,3,4,5,GT}\n",
    "\n",
    "(GT is 6 for Syn1, 6 for Syn4 and 12 for Syn5, according to the paper)"
   ]
  },
  {
   "cell_type": "code",
   "execution_count": null,
   "id": "7842e001",
   "metadata": {},
   "outputs": [],
   "source": [
    "def gnnexplainer_baseline(nr_edges, subgraph, node, model):\n",
    "    pass"
   ]
  }
 ],
 "metadata": {
  "kernelspec": {
   "display_name": "CFGNNExplainerKernel",
   "language": "python",
   "name": "cfgnnexplainerkernel"
  },
  "language_info": {
   "codemirror_mode": {
    "name": "ipython",
    "version": 3
   },
   "file_extension": ".py",
   "mimetype": "text/x-python",
   "name": "python",
   "nbconvert_exporter": "python",
   "pygments_lexer": "ipython3",
   "version": "3.9.15"
  }
 },
 "nbformat": 4,
 "nbformat_minor": 5
}
