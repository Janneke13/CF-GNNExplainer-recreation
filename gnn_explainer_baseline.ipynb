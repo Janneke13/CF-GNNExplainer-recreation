{
 "cells": [
  {
   "cell_type": "markdown",
   "id": "778ab03e",
   "metadata": {},
   "source": [
    "## GNNExplainer baseline"
   ]
  },
  {
   "cell_type": "markdown",
   "id": "e130e531",
   "metadata": {},
   "source": [
    "Steps of the GNNExplainer baseline (according to the paper):\n",
    "1. Identify the S most relevent edges in prediction.\n",
    "2. Remove these edges\n",
    "3. S in {1,2,3,4,5,GT}\n",
    "\n",
    "(GT is 6 for Syn1, 6 for Syn4 and 12 for Syn5, according to the paper)"
   ]
  },
  {
   "cell_type": "code",
   "execution_count": null,
   "id": "b3c370a8",
   "metadata": {},
   "outputs": [],
   "source": [
    "def gnnexplainer_baseline(nr_edges, subgraph, node, model):\n",
    "    pass"
   ]
  }
 ],
 "metadata": {
  "kernelspec": {
   "display_name": "CFGNNExplainerKernel",
   "language": "python",
   "name": "cfgnnexplainerkernel"
  },
  "language_info": {
   "codemirror_mode": {
    "name": "ipython",
    "version": 3
   },
   "file_extension": ".py",
   "mimetype": "text/x-python",
   "name": "python",
   "nbconvert_exporter": "python",
   "pygments_lexer": "ipython3",
   "version": "3.9.15"
  }
 },
 "nbformat": 4,
 "nbformat_minor": 5
}
